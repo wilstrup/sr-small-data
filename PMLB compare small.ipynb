{
 "cells": [
  {
   "cell_type": "markdown",
   "metadata": {},
   "source": [
    "# WIP"
   ]
  },
  {
   "cell_type": "code",
   "execution_count": null,
   "metadata": {},
   "outputs": [],
   "source": [
    "import feyn\n",
    "import pmlb\n",
    "import pandas as pd"
   ]
  },
  {
   "cell_type": "code",
   "execution_count": null,
   "metadata": {
    "scrolled": false
   },
   "outputs": [],
   "source": [
    "#for name in pmlb.regression_dataset_names:\n",
    "#    df = pmlb.fetch_data(name, local_cache_dir=\"/tmp/pmlb_data\")\n",
    "#    print(f\"('{name}', {len(df)}, {len(df.columns)}),\")   "
   ]
  },
  {
   "cell_type": "code",
   "execution_count": null,
   "metadata": {},
   "outputs": [],
   "source": [
    "datasets = pd.DataFrame([\n",
    "('1027_ESL', 488, 5),\n",
    "('1028_SWD', 1000, 11),\n",
    "('1029_LEV', 1000, 5),\n",
    "('1030_ERA', 1000, 5),\n",
    "('1089_USCrime', 47, 14),\n",
    "('1096_FacultySalaries', 50, 5),\n",
    "('1191_BNG_pbc', 1000000, 19),\n",
    "('1193_BNG_lowbwt', 31104, 10),\n",
    "('1196_BNG_pharynx', 1000000, 11),\n",
    "('1199_BNG_echoMonths', 17496, 10),\n",
    "('1201_BNG_breastTumor', 116640, 10),\n",
    "('1203_BNG_pwLinear', 177147, 11),\n",
    "('1595_poker', 1025010, 11),\n",
    "('192_vineyard', 52, 3),\n",
    "('195_auto_price', 159, 16),\n",
    "('197_cpu_act', 8192, 22),\n",
    "('201_pol', 15000, 49),\n",
    "('207_autoPrice', 159, 16),\n",
    "('210_cloud', 108, 6),\n",
    "('215_2dplanes', 40768, 11),\n",
    "('218_house_8L', 22784, 9),\n",
    "('225_puma8NH', 8192, 9),\n",
    "('227_cpu_small', 8192, 13),\n",
    "('228_elusage', 55, 3),\n",
    "('229_pwLinear', 200, 11),\n",
    "('230_machine_cpu', 209, 7),\n",
    "('294_satellite_image', 6435, 37),\n",
    "('344_mv', 40768, 11),\n",
    "('4544_GeographicalOriginalofMusic', 1059, 118),\n",
    "('485_analcatdata_vehicle', 48, 5),\n",
    "('503_wind', 6574, 15),\n",
    "('505_tecator', 240, 125),\n",
    "('519_vinnie', 380, 3),\n",
    "('522_pm10', 500, 8),\n",
    "('523_analcatdata_neavote', 100, 3),\n",
    "('527_analcatdata_election2000', 67, 15),\n",
    "('529_pollen', 3848, 5),\n",
    "('537_houses', 20640, 9),\n",
    "('542_pollution', 60, 16),\n",
    "('547_no2', 500, 8),\n",
    "('556_analcatdata_apnea2', 475, 4),\n",
    "('557_analcatdata_apnea1', 475, 4),\n",
    "('560_bodyfat', 252, 15),\n",
    "('561_cpu', 209, 8),\n",
    "('562_cpu_small', 8192, 13),\n",
    "('564_fried', 40768, 11),\n",
    "('573_cpu_act', 8192, 22),\n",
    "('574_house_16H', 22784, 17),\n",
    "('579_fri_c0_250_5', 250, 6),\n",
    "('581_fri_c3_500_25', 500, 26),\n",
    "('582_fri_c1_500_25', 500, 26),\n",
    "('583_fri_c1_1000_50', 1000, 51),\n",
    "('584_fri_c4_500_25', 500, 26),\n",
    "('586_fri_c3_1000_25', 1000, 26),\n",
    "('588_fri_c4_1000_100', 1000, 101),\n",
    "('589_fri_c2_1000_25', 1000, 26),\n",
    "('590_fri_c0_1000_50', 1000, 51),\n",
    "('591_fri_c1_100_10', 100, 11),\n",
    "('592_fri_c4_1000_25', 1000, 26),\n",
    "('593_fri_c1_1000_10', 1000, 11),\n",
    "('594_fri_c2_100_5', 100, 6),\n",
    "('595_fri_c0_1000_10', 1000, 11),\n",
    "('596_fri_c2_250_5', 250, 6),\n",
    "('597_fri_c2_500_5', 500, 6),\n",
    "('598_fri_c0_1000_25', 1000, 26),\n",
    "('599_fri_c2_1000_5', 1000, 6),\n",
    "('601_fri_c1_250_5', 250, 6),\n",
    "('602_fri_c3_250_10', 250, 11),\n",
    "('603_fri_c0_250_50', 250, 51),\n",
    "('604_fri_c4_500_10', 500, 11),\n",
    "('605_fri_c2_250_25', 250, 26),\n",
    "('606_fri_c2_1000_10', 1000, 11),\n",
    "('607_fri_c4_1000_50', 1000, 51),\n",
    "('608_fri_c3_1000_10', 1000, 11),\n",
    "('609_fri_c0_1000_5', 1000, 6),\n",
    "('611_fri_c3_100_5', 100, 6),\n",
    "('612_fri_c1_1000_5', 1000, 6),\n",
    "('613_fri_c3_250_5', 250, 6),\n",
    "('615_fri_c4_250_10', 250, 11),\n",
    "('616_fri_c4_500_50', 500, 51),\n",
    "('617_fri_c3_500_5', 500, 6),\n",
    "('618_fri_c3_1000_50', 1000, 51),\n",
    "('620_fri_c1_1000_25', 1000, 26),\n",
    "('621_fri_c0_100_10', 100, 11),\n",
    "('622_fri_c2_1000_50', 1000, 51),\n",
    "('623_fri_c4_1000_10', 1000, 11),\n",
    "('624_fri_c0_100_5', 100, 6),\n",
    "('626_fri_c2_500_50', 500, 51),\n",
    "('627_fri_c2_500_10', 500, 11),\n",
    "('628_fri_c3_1000_5', 1000, 6),\n",
    "('631_fri_c1_500_5', 500, 6),\n",
    "('633_fri_c0_500_25', 500, 26),\n",
    "('634_fri_c2_100_10', 100, 11),\n",
    "('635_fri_c0_250_10', 250, 11),\n",
    "('637_fri_c1_500_50', 500, 51),\n",
    "('641_fri_c1_500_10', 500, 11),\n",
    "('643_fri_c2_500_25', 500, 26),\n",
    "('644_fri_c4_250_25', 250, 26),\n",
    "('645_fri_c3_500_50', 500, 51),\n",
    "('646_fri_c3_500_10', 500, 11),\n",
    "('647_fri_c1_250_10', 250, 11),\n",
    "('648_fri_c1_250_50', 250, 51),\n",
    "('649_fri_c0_500_5', 500, 6),\n",
    "('650_fri_c0_500_50', 500, 51),\n",
    "('651_fri_c0_100_25', 100, 26),\n",
    "('653_fri_c0_250_25', 250, 26),\n",
    "('654_fri_c0_500_10', 500, 11),\n",
    "('656_fri_c1_100_5', 100, 6),\n",
    "('657_fri_c2_250_10', 250, 11),\n",
    "('658_fri_c3_250_25', 250, 26),\n",
    "('659_sleuth_ex1714', 47, 8),\n",
    "('663_rabe_266', 120, 3),\n",
    "('665_sleuth_case2002', 147, 7),\n",
    "('666_rmftsa_ladata', 508, 11),\n",
    "('678_visualizing_environmental', 111, 4),\n",
    "('687_sleuth_ex1605', 62, 6),\n",
    "('690_visualizing_galaxy', 323, 5),\n",
    "('695_chatfield_4', 235, 13),\n",
    "('706_sleuth_case1202', 93, 7),\n",
    "('712_chscase_geyser1', 222, 3),\n",
    "('banana', 5300, 3),\n",
    "('titanic', 2201, 4),\n",
    "],\n",
    "columns=[\"name\",\"n\",\"fcount\"])"
   ]
  },
  {
   "cell_type": "code",
   "execution_count": null,
   "metadata": {},
   "outputs": [],
   "source": [
    "datasets[(datasets[\"n\"]>1000) & (datasets[\"fcount\"]<12) ]"
   ]
  },
  {
   "cell_type": "markdown",
   "metadata": {},
   "source": [
    "# Winners: 200 samples\n",
    "\n",
    "Linreg:\n",
    "- 1193_BNG_lowbwt (0.56)\n",
    "- 1199_BNG_echoMonths (0.401)\n",
    "- 529_pollen (0.786)\n",
    "\n",
    "RF:\n",
    "- banana (.58, but QL did better than LR)\n",
    "\n",
    "GB:\n",
    "- 215_2dplanes (.927, but QL did better than LR) \n",
    "- 218_house_8L (.491, but QL did better than LR)\n",
    "- 564_fried (.826, but QL did better than LR)\n",
    "\n",
    "QL: \n",
    "- 1196_BNG_pharynx (.42)\n",
    "- 1203_BNG_pwLinear (.505)\n",
    "- 225_puma8NH (0.59)\n",
    "- 344_mv (.991)\n",
    "- 537_houses (.402, but LR did better after QL feature selection)\n",
    "- titanic (.266, well GB was a tie within rounding error)\n",
    "\n",
    "None (R2 < 0)\n",
    "- 1201_BNG_breastTumor\n",
    "- 1595_poker\n",
    "\n"
   ]
  },
  {
   "cell_type": "code",
   "execution_count": null,
   "metadata": {},
   "outputs": [],
   "source": [
    "def get_pmlb_data(name, trainsize=200):\n",
    "    df = pmlb.fetch_data(name, local_cache_dir=\"/tmp/pmlb_data\")\n",
    "    return df[0:trainsize], df[trainsize+1:]"
   ]
  },
  {
   "cell_type": "code",
   "execution_count": null,
   "metadata": {},
   "outputs": [],
   "source": [
    "train, test = get_pmlb_data(\"225_puma8NH\")"
   ]
  },
  {
   "cell_type": "markdown",
   "metadata": {},
   "source": [
    "# Compare to the usual suspects"
   ]
  },
  {
   "cell_type": "code",
   "execution_count": null,
   "metadata": {},
   "outputs": [],
   "source": [
    "from sklearn.linear_model import LinearRegression, Lasso\n",
    "from sklearn.ensemble import RandomForestRegressor, GradientBoostingRegressor\n",
    "\n",
    "\n",
    "def X(df):\n",
    "    return df.iloc[:,:-1]\n",
    "\n",
    "def y(df):\n",
    "    return df.iloc[:,-1]\n",
    "\n",
    "def fit_and_r2_score(model, train, test):\n",
    "    model.fit(X(train), y(train))\n",
    "    return model.score(X(train), y(train)), model.score(X(test), y(test))\n",
    "\n",
    "\n",
    "\n",
    "r2_train, r2_test = fit_and_r2_score(LinearRegression(), train, test)\n",
    "print(\"Linear regression:\\t%.3f\\t%.3f\" %(r2_train, r2_test))\n",
    "\n",
    "r2_train, r2_test = fit_and_r2_score(Lasso(alpha=0.01), train, test)\n",
    "print(\"Lasso:\\t\\t\\t%.3f\\t%.3f\" %(r2_train, r2_test))\n",
    "\n",
    "r2_train, r2_test = fit_and_r2_score(RandomForestRegressor(), train, test)\n",
    "print(\"Random forest:\\t\\t%.3f\\t%.3f\" %(r2_train, r2_test))\n",
    "\n",
    "r2_train, r2_test = fit_and_r2_score(GradientBoostingRegressor(n_estimators=100, min_samples_split=2, min_samples_leaf=2), train, test)\n",
    "print(\"Gradient Boosting:\\t%.3f\\t%.3f\" %(r2_train, r2_test))\n",
    "\n",
    "print(\"---\")"
   ]
  },
  {
   "cell_type": "code",
   "execution_count": null,
   "metadata": {},
   "outputs": [],
   "source": [
    "ql = feyn.QLattice()"
   ]
  },
  {
   "cell_type": "code",
   "execution_count": null,
   "metadata": {},
   "outputs": [],
   "source": [
    "ql.reset()\n",
    "qg = ql.get_regressor(train.columns, train.columns[-1]).filter(feyn.filters.MaxEdges(8))\n",
    "#qg=qg.filter(feyn.filters.Functions([\"add\",\"multiply\", \"log\",\"inverse\",\"exp\",\"sqrt\",\"squared\"]))\n",
    "\n",
    "for _ in range(100):\n",
    "    qg.fit(train, threads=7)\n",
    "    ql.update(qg.best())\n",
    "    print(\"Train:\\t\", qg[0].r2_score(train), \"\\nTest:\\t\", qg[0].r2_score(test))"
   ]
  },
  {
   "cell_type": "code",
   "execution_count": null,
   "metadata": {},
   "outputs": [],
   "source": [
    "for _ in range(10000):\n",
    "    qg[0].fit(train)"
   ]
  },
  {
   "cell_type": "code",
   "execution_count": null,
   "metadata": {},
   "outputs": [],
   "source": [
    "ref = feyn.reference.LinearRegressionModel(qg[0],train)\n",
    "print(\"Train:\\t\", qg[0].r2_score(train), \"\\nTest:\\t\", qg[0].r2_score(test))\n",
    "print(\"-- LR --\")\n",
    "print(\"Train:\\t\", ref.r2_score(train), \"\\nTest:\\t\", ref.r2_score(test))"
   ]
  },
  {
   "cell_type": "code",
   "execution_count": null,
   "metadata": {},
   "outputs": [],
   "source": []
  }
 ],
 "metadata": {
  "kernelspec": {
   "display_name": "Python 3",
   "language": "python",
   "name": "python3"
  },
  "language_info": {
   "codemirror_mode": {
    "name": "ipython",
    "version": 3
   },
   "file_extension": ".py",
   "mimetype": "text/x-python",
   "name": "python",
   "nbconvert_exporter": "python",
   "pygments_lexer": "ipython3",
   "version": "3.8.5"
  }
 },
 "nbformat": 4,
 "nbformat_minor": 4
}
